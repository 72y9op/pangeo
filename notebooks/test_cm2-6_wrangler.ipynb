{
 "cells": [
  {
   "cell_type": "code",
   "execution_count": 1,
   "metadata": {},
   "outputs": [
    {
     "data": {
      "text/plain": [
       "'0.10.0rc2'"
      ]
     },
     "execution_count": 1,
     "metadata": {},
     "output_type": "execute_result"
    }
   ],
   "source": [
    "import xarray as xr\n",
    "xr.__version__"
   ]
  },
  {
   "cell_type": "code",
   "execution_count": 9,
   "metadata": {},
   "outputs": [
    {
     "data": {
      "text/html": [
       "<table style=\"border: 2px solid white;\">\n",
       "<tr>\n",
       "<td style=\"vertical-align: top; border: 0px solid white\">\n",
       "<h3>Client</h3>\n",
       "<ul>\n",
       "  <li><b>Scheduler: </b>tcp://129.114.58.132:8786\n",
       "  <li><b>Dashboard: </b><a href='http://129.114.58.132:8787' target='_blank'>http://129.114.58.132:8787</a>\n",
       "</ul>\n",
       "</td>\n",
       "<td style=\"vertical-align: top; border: 0px solid white\">\n",
       "<h3>Cluster</h3>\n",
       "<ul>\n",
       "  <li><b>Workers: </b>41</li>\n",
       "  <li><b>Cores: </b>164</li>\n",
       "  <li><b>Memory: </b>828.89 GB</li>\n",
       "</ul>\n",
       "</td>\n",
       "</tr>\n",
       "</table>"
      ],
      "text/plain": [
       "<Client: scheduler='tcp://129.114.58.132:8786' processes=41 cores=164>"
      ]
     },
     "execution_count": 9,
     "metadata": {},
     "output_type": "execute_result"
    }
   ],
   "source": [
    "from dask.distributed import Client\n",
    "client = Client(scheduler_file='/home/02823/rabernat/scheduler.json')\n",
    "client"
   ]
  },
  {
   "cell_type": "code",
   "execution_count": 3,
   "metadata": {},
   "outputs": [],
   "source": [
    "ddir = '/gpfs/flash/users/rabernat/CM2.6/control/'"
   ]
  },
  {
   "cell_type": "code",
   "execution_count": 4,
   "metadata": {},
   "outputs": [
    {
     "name": "stderr",
     "output_type": "stream",
     "text": [
      "/home/02823/rabernat/miniconda3/envs/pangeo/lib/python3.6/site-packages/xarray/conventions.py:416: SerializationWarning: Unable to decode time axis into full numpy.datetime64 objects, continuing using dummy netCDF4.datetime objects instead, reason: dates out of range\n",
      "  result = decode_cf_datetime(example_value, units, calendar)\n",
      "/home/02823/rabernat/miniconda3/envs/pangeo/lib/python3.6/site-packages/xarray/conventions.py:435: SerializationWarning: Unable to decode time axis into full numpy.datetime64 objects, continuing using dummy netCDF4.datetime objects instead, reason: dates out of range\n",
      "  calendar=self.calendar)\n"
     ]
    },
    {
     "data": {
      "text/plain": [
       "<xarray.Dataset>\n",
       "Dimensions:         (nv: 2, st_edges_ocean: 51, st_ocean: 50, time: 146, xt_ocean: 3600, xu_ocean: 3600, yt_ocean: 2700, yu_ocean: 2700)\n",
       "Coordinates:\n",
       "  * xt_ocean        (xt_ocean) float64 -279.9 -279.8 -279.7 -279.6 -279.5 ...\n",
       "  * yt_ocean        (yt_ocean) float64 -81.11 -81.07 -81.02 -80.98 -80.94 ...\n",
       "  * st_ocean        (st_ocean) float64 5.034 15.1 25.22 35.36 45.58 55.85 ...\n",
       "  * st_edges_ocean  (st_edges_ocean) float64 0.0 10.07 20.16 30.29 40.47 ...\n",
       "  * nv              (nv) float64 1.0 2.0\n",
       "  * time            (time) object  181-01-03 12:00:00  181-01-08 12:00:00 ...\n",
       "  * xu_ocean        (xu_ocean) float64 -279.9 -279.8 -279.7 -279.6 -279.5 ...\n",
       "  * yu_ocean        (yu_ocean) float64 -81.09 -81.05 -81.0 -80.96 -80.92 ...\n",
       "Data variables:\n",
       "    salt            (time, st_ocean, yt_ocean, xt_ocean) float64 dask.array<shape=(146, 50, 2700, 3600), chunksize=(1, 1, 2700, 3600)>\n",
       "    average_T1      (time) object dask.array<shape=(146,), chunksize=(1,)>\n",
       "    average_T2      (time) object dask.array<shape=(146,), chunksize=(1,)>\n",
       "    average_DT      (time) timedelta64[ns] dask.array<shape=(146,), chunksize=(1,)>\n",
       "    time_bounds     (time, nv) timedelta64[ns] dask.array<shape=(146, 2), chunksize=(1, 2)>\n",
       "    temp            (time, st_ocean, yt_ocean, xt_ocean) float64 dask.array<shape=(146, 50, 2700, 3600), chunksize=(1, 1, 2700, 3600)>\n",
       "    u               (time, st_ocean, yu_ocean, xu_ocean) float64 dask.array<shape=(146, 50, 2700, 3600), chunksize=(1, 1, 2700, 3600)>\n",
       "    v               (time, st_ocean, yu_ocean, xu_ocean) float64 dask.array<shape=(146, 50, 2700, 3600), chunksize=(1, 1, 2700, 3600)>\n",
       "Attributes:\n",
       "    filename:   01810101.ocean_minibling_field_salt.nc\n",
       "    title:      CM2.6_miniBling\n",
       "    grid_type:  mosaic\n",
       "    grid_tile:  1"
      ]
     },
     "execution_count": 4,
     "metadata": {},
     "output_type": "execute_result"
    }
   ],
   "source": [
    "ds = xr.open_mfdataset(ddir + '*.nc', chunks={'st_ocean': 1, 'time':1})\n",
    "ds"
   ]
  },
  {
   "cell_type": "code",
   "execution_count": 11,
   "metadata": {},
   "outputs": [
    {
     "data": {
      "text/plain": [
       "2270.592108632"
      ]
     },
     "execution_count": 11,
     "metadata": {},
     "output_type": "execute_result"
    }
   ],
   "source": [
    "ds.nbytes / 1e9"
   ]
  },
  {
   "cell_type": "markdown",
   "metadata": {},
   "source": [
    "## Global Mean"
   ]
  },
  {
   "cell_type": "code",
   "execution_count": 12,
   "metadata": {},
   "outputs": [
    {
     "name": "stdout",
     "output_type": "stream",
     "text": [
      "CPU times: user 9.06 s, sys: 197 ms, total: 9.26 s\n",
      "Wall time: 1min 49s\n"
     ]
    },
    {
     "data": {
      "text/plain": [
       "<xarray.Dataset>\n",
       "Dimensions:      ()\n",
       "Data variables:\n",
       "    salt         float64 34.54\n",
       "    average_DT   timedelta64[ns] 5 days\n",
       "    time_bounds  timedelta64[ns] 303 days 23:28:23.308699\n",
       "    temp         float64 5.778\n",
       "    u            float64 0.005448\n",
       "    v            float64 0.000825"
      ]
     },
     "execution_count": 12,
     "metadata": {},
     "output_type": "execute_result"
    }
   ],
   "source": [
    "# easy example...just take the mean of the whole dataset\n",
    "# extremely simple and I/O bound\n",
    "%time ds.mean().load()"
   ]
  },
  {
   "cell_type": "markdown",
   "metadata": {},
   "source": [
    "## Monthly Climatology\n",
    "\n",
    "Here we want to groupy by month and take the average in time.\n",
    "This dataset uses a non-standard calendar, so `groupby('time.month')` doesn't work.\n",
    "(xarray issues: [789](https://github.com/pydata/xarray/issues/789),\n",
    "[1084](https://github.com/pydata/xarray/issues/1084),\n",
    "[1252](https://github.com/pydata/xarray/pull/1252))\n"
   ]
  },
  {
   "cell_type": "code",
   "execution_count": 13,
   "metadata": {},
   "outputs": [
    {
     "data": {
      "text/plain": [
       "<xarray.Dataset>\n",
       "Dimensions:         (nv: 2, st_edges_ocean: 51, st_ocean: 50, time: 146, xt_ocean: 3600, xu_ocean: 3600, yt_ocean: 2700, yu_ocean: 2700)\n",
       "Coordinates:\n",
       "  * xt_ocean        (xt_ocean) float64 -279.9 -279.8 -279.7 -279.6 -279.5 ...\n",
       "  * yt_ocean        (yt_ocean) float64 -81.11 -81.07 -81.02 -80.98 -80.94 ...\n",
       "  * st_ocean        (st_ocean) float64 5.034 15.1 25.22 35.36 45.58 55.85 ...\n",
       "  * st_edges_ocean  (st_edges_ocean) float64 0.0 10.07 20.16 30.29 40.47 ...\n",
       "  * nv              (nv) float64 1.0 2.0\n",
       "  * time            (time) object  181-01-03 12:00:00  181-01-08 12:00:00 ...\n",
       "  * xu_ocean        (xu_ocean) float64 -279.9 -279.8 -279.7 -279.6 -279.5 ...\n",
       "  * yu_ocean        (yu_ocean) float64 -81.09 -81.05 -81.0 -80.96 -80.92 ...\n",
       "    month           (time) int64 1 1 1 1 1 1 2 2 2 2 2 2 3 3 3 3 3 3 4 4 4 4 ...\n",
       "Data variables:\n",
       "    salt            (time, st_ocean, yt_ocean, xt_ocean) float64 dask.array<shape=(146, 50, 2700, 3600), chunksize=(1, 1, 2700, 3600)>\n",
       "    average_T1      (time) object dask.array<shape=(146,), chunksize=(1,)>\n",
       "    average_T2      (time) object dask.array<shape=(146,), chunksize=(1,)>\n",
       "    average_DT      (time) timedelta64[ns] dask.array<shape=(146,), chunksize=(1,)>\n",
       "    time_bounds     (time, nv) timedelta64[ns] dask.array<shape=(146, 2), chunksize=(1, 2)>\n",
       "    temp            (time, st_ocean, yt_ocean, xt_ocean) float64 dask.array<shape=(146, 50, 2700, 3600), chunksize=(1, 1, 2700, 3600)>\n",
       "    u               (time, st_ocean, yu_ocean, xu_ocean) float64 dask.array<shape=(146, 50, 2700, 3600), chunksize=(1, 1, 2700, 3600)>\n",
       "    v               (time, st_ocean, yu_ocean, xu_ocean) float64 dask.array<shape=(146, 50, 2700, 3600), chunksize=(1, 1, 2700, 3600)>\n",
       "Attributes:\n",
       "    filename:   01810101.ocean_minibling_field_salt.nc\n",
       "    title:      CM2.6_miniBling\n",
       "    grid_type:  mosaic\n",
       "    grid_tile:  1"
      ]
     },
     "execution_count": 13,
     "metadata": {},
     "output_type": "execute_result"
    }
   ],
   "source": [
    "months = [val.month for val in ds.time.values]\n",
    "ds.coords['month'] = (('time',), months)\n",
    "ds"
   ]
  },
  {
   "cell_type": "code",
   "execution_count": 14,
   "metadata": {},
   "outputs": [],
   "source": [
    "# persist monthly mean climatlogy to disk\n",
    "# this ends up spilling lots of data to disk, which is okay on Wrangler\n",
    "# because the scratch storage is so fast\n",
    "ds_mm = ds.groupby('month').mean(dim='time').persist()"
   ]
  },
  {
   "cell_type": "code",
   "execution_count": 15,
   "metadata": {},
   "outputs": [
    {
     "data": {
      "text/plain": [
       "<xarray.Dataset>\n",
       "Dimensions:         (month: 12, nv: 2, st_edges_ocean: 51, st_ocean: 50, xt_ocean: 3600, xu_ocean: 3600, yt_ocean: 2700, yu_ocean: 2700)\n",
       "Coordinates:\n",
       "  * xt_ocean        (xt_ocean) float64 -279.9 -279.8 -279.7 -279.6 -279.5 ...\n",
       "  * yt_ocean        (yt_ocean) float64 -81.11 -81.07 -81.02 -80.98 -80.94 ...\n",
       "  * st_ocean        (st_ocean) float64 5.034 15.1 25.22 35.36 45.58 55.85 ...\n",
       "  * st_edges_ocean  (st_edges_ocean) float64 0.0 10.07 20.16 30.29 40.47 ...\n",
       "  * nv              (nv) float64 1.0 2.0\n",
       "  * xu_ocean        (xu_ocean) float64 -279.9 -279.8 -279.7 -279.6 -279.5 ...\n",
       "  * yu_ocean        (yu_ocean) float64 -81.09 -81.05 -81.0 -80.96 -80.92 ...\n",
       "  * month           (month) int64 1 2 3 4 5 6 7 8 9 10 11 12\n",
       "Data variables:\n",
       "    salt            (month, st_ocean, yt_ocean, xt_ocean) float64 dask.array<shape=(12, 50, 2700, 3600), chunksize=(1, 1, 2700, 3600)>\n",
       "    average_DT      (month) timedelta64[ns] dask.array<shape=(12,), chunksize=(1,)>\n",
       "    time_bounds     (month, nv) timedelta64[ns] dask.array<shape=(12, 2), chunksize=(1, 2)>\n",
       "    temp            (month, st_ocean, yt_ocean, xt_ocean) float64 dask.array<shape=(12, 50, 2700, 3600), chunksize=(1, 1, 2700, 3600)>\n",
       "    u               (month, st_ocean, yu_ocean, xu_ocean) float64 dask.array<shape=(12, 50, 2700, 3600), chunksize=(1, 1, 2700, 3600)>\n",
       "    v               (month, st_ocean, yu_ocean, xu_ocean) float64 dask.array<shape=(12, 50, 2700, 3600), chunksize=(1, 1, 2700, 3600)>"
      ]
     },
     "execution_count": 15,
     "metadata": {},
     "output_type": "execute_result"
    }
   ],
   "source": [
    "ds_mm"
   ]
  },
  {
   "cell_type": "markdown",
   "metadata": {},
   "source": [
    "## Variance from monthly mean\n",
    "\n",
    "This is the real science part of the calculation.\n",
    "We look at the anomaly from the monthly climatology and calculate the variance of that anomaly."
   ]
  },
  {
   "cell_type": "code",
   "execution_count": 16,
   "metadata": {},
   "outputs": [],
   "source": [
    "ds_anom = ds.groupby('month') - ds_mm"
   ]
  },
  {
   "cell_type": "code",
   "execution_count": 18,
   "metadata": {},
   "outputs": [
    {
     "data": {
      "text/plain": [
       "<xarray.Dataset>\n",
       "Dimensions:         (nv: 2, st_edges_ocean: 51, st_ocean: 50, time: 146, xt_ocean: 3600, xu_ocean: 3600, yt_ocean: 2700, yu_ocean: 2700)\n",
       "Coordinates:\n",
       "  * xt_ocean        (xt_ocean) float64 -279.9 -279.8 -279.7 -279.6 -279.5 ...\n",
       "  * yt_ocean        (yt_ocean) float64 -81.11 -81.07 -81.02 -80.98 -80.94 ...\n",
       "  * st_ocean        (st_ocean) float64 5.034 15.1 25.22 35.36 45.58 55.85 ...\n",
       "  * st_edges_ocean  (st_edges_ocean) float64 0.0 10.07 20.16 30.29 40.47 ...\n",
       "  * nv              (nv) float64 1.0 2.0\n",
       "  * xu_ocean        (xu_ocean) float64 -279.9 -279.8 -279.7 -279.6 -279.5 ...\n",
       "  * yu_ocean        (yu_ocean) float64 -81.09 -81.05 -81.0 -80.96 -80.92 ...\n",
       "  * time            (time) object  181-01-03 12:00:00  181-01-08 12:00:00 ...\n",
       "    month           (time) int64 1 1 1 1 1 1 2 2 2 2 2 2 3 3 3 3 3 3 4 4 4 4 ...\n",
       "Data variables:\n",
       "    salt            (time, st_ocean, yt_ocean, xt_ocean) float64 dask.array<shape=(146, 50, 2700, 3600), chunksize=(146, 1, 2700, 3600)>\n",
       "    average_DT      (time) timedelta64[ns] dask.array<shape=(146,), chunksize=(146,)>\n",
       "    time_bounds     (time, nv) timedelta64[ns] dask.array<shape=(146, 2), chunksize=(146, 2)>\n",
       "    temp            (time, st_ocean, yt_ocean, xt_ocean) float64 dask.array<shape=(146, 50, 2700, 3600), chunksize=(146, 1, 2700, 3600)>\n",
       "    u               (time, st_ocean, yu_ocean, xu_ocean) float64 dask.array<shape=(146, 50, 2700, 3600), chunksize=(146, 1, 2700, 3600)>\n",
       "    v               (time, st_ocean, yu_ocean, xu_ocean) float64 dask.array<shape=(146, 50, 2700, 3600), chunksize=(146, 1, 2700, 3600)>"
      ]
     },
     "execution_count": 18,
     "metadata": {},
     "output_type": "execute_result"
    }
   ],
   "source": [
    "ds_anom"
   ]
  },
  {
   "cell_type": "code",
   "execution_count": null,
   "metadata": {},
   "outputs": [],
   "source": [
    "# this don't ever finish computing\n",
    "temp_var = (ds_anom.temp**2).mean(dim='time').load()"
   ]
  },
  {
   "cell_type": "markdown",
   "metadata": {},
   "source": [
    "The above doesn't finish because workers keep dying. Sometimes it gets to the very end, with just a few tasks left, but it always dies.\n",
    "\n",
    "```\n",
    "distributed.worker - INFO - Can't find dependencies for key ('broadcast_to-mean_agg-aggregate-transpose-concatenate-cb1ded8a7edd185e51fdac6d1f13d799', 6, 6, 0, 0)\n",
    "distributed.worker - ERROR - Worker stream died during communication: tcp://192.168.58.120:44101\n",
    "Traceback (most recent call last):\n",
    "  File \"/home/02823/rabernat/miniconda3/envs/pangeo/lib/python3.6/site-packages/distributed/comm/tcp.py\", line 170, in read\n",
    "    n_frames = yield stream.read_bytes(8)\n",
    "  File \"/home/02823/rabernat/miniconda3/envs/pangeo/lib/python3.6/site-packages/tornado/gen.py\", line 1055, in run\n",
    "    value = future.result()\n",
    "  File \"/home/02823/rabernat/miniconda3/envs/pangeo/lib/python3.6/site-packages/tornado/concurrent.py\", line 238, in result\n",
    "    raise_exc_info(self._exc_info)\n",
    "  File \"<string>\", line 4, in raise_exc_info\n",
    "tornado.iostream.StreamClosedError: Stream is closed\n",
    "```"
   ]
  },
  {
   "cell_type": "code",
   "execution_count": null,
   "metadata": {},
   "outputs": [],
   "source": []
  }
 ],
 "metadata": {
  "kernelspec": {
   "display_name": "Python 3",
   "language": "python",
   "name": "python3"
  },
  "language_info": {
   "codemirror_mode": {
    "name": "ipython",
    "version": 3
   },
   "file_extension": ".py",
   "mimetype": "text/x-python",
   "name": "python",
   "nbconvert_exporter": "python",
   "pygments_lexer": "ipython3",
   "version": "3.6.3"
  }
 },
 "nbformat": 4,
 "nbformat_minor": 2
}

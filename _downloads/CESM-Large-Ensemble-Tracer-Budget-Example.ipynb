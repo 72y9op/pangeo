{
 "cells": [
  {
   "cell_type": "markdown",
   "metadata": {},
   "source": [
    "# CESM Large Ensemble Tracer Budget\n",
    "\n",
    "Example of calculating the oceanic DIC budget\n",
    "\n",
    "Here we calculate the DIC budget from the ocean component model (POP2) of the CESM Large Ensemble (CESM-LENS). This code can be used to create budgets, as is, for any tracer. Also, by replacing the load function in cell 6,`pl.open_pop_ensemble`, with `pl.open_pop_single_var_file` or `pl.open_pop_multi_var_file`, you can use this notebook to calculate tracer budgets with any POP2 output.\n",
    "\n",
    "CESM-LENS is a set climate simulations that allow for the study of natural climate varability and climate change. More about the project can be found [here](http://www.cesm.ucar.edu/projects/community-projects/LENS/). To represent the full envelope of natural variability, the fully coupled version of the CESM has been run 40 times representing 40 different realizations of the period 1920-2100. Dask and xarray are the perfect tools to handle the large data volume"
   ]
  },
  {
   "cell_type": "code",
   "execution_count": null,
   "metadata": {},
   "outputs": [],
   "source": [
    "!qselect -N dask-worker | xargs qdel"
   ]
  },
  {
   "cell_type": "code",
   "execution_count": null,
   "metadata": {},
   "outputs": [],
   "source": [
    "import xarray as xr\n",
    "import numpy as np\n",
    "import poploader as pl # faster xarray dataset creation for POP2 (https://gist.github.com/sridge/fe5f180c7e1332212fcce0161c461716)\n",
    "from tqdm import tqdm # progressbar"
   ]
  },
  {
   "cell_type": "code",
   "execution_count": null,
   "metadata": {},
   "outputs": [],
   "source": [
    "from dask_jobqueue import PBSCluster\n",
    "\n",
    "cluster = PBSCluster(local_directory = '/glade/scratch/sridge/spill/',\n",
    "                     processes=18,\n",
    "                     threads=4, memory=\"6GB\",\n",
    "                     project='UCLB0022',\n",
    "                     queue='premium',\n",
    "                     resource_spec='select=1:ncpus=36:mem=109G',\n",
    "                     walltime='1:00:00')\n",
    "cluster.start_workers(16)\n",
    "\n",
    "from dask.distributed import Client\n",
    "client = Client(cluster)"
   ]
  },
  {
   "cell_type": "code",
   "execution_count": null,
   "metadata": {},
   "outputs": [],
   "source": [
    "client"
   ]
  },
  {
   "cell_type": "code",
   "execution_count": null,
   "metadata": {},
   "outputs": [],
   "source": [
    "tracer = 'DIC_ALT_CO2'\n",
    "\n",
    "ddir = '/glade/scratch/sridge/*/'\n",
    "outdir = '/glade/scratch/sridge/'\n",
    "\n",
    "memberlist = [1, 2, 9, 10, 11, 12, 13, 14, 15, 16, 17, 18, 19, 20, 21, 22, 23, 24, 25, 26, 27,\n",
    "              28, 29, 30, 31, 32, 33, 101, 102, 103, 104, 105]\n",
    "\n",
    "memberlist = memberlist[1:5] #smaller version to test\n",
    "\n",
    "transport_terms = ['UE_','VN_','WT_','HDIFE_','HDIFN_','HDIFB_','DIA_IMPVF_','KPP_SRC_']#,'J_']\n",
    "\n",
    "transport_varnames=[]\n",
    "\n",
    "for term in transport_terms:\n",
    "\n",
    "    transport_varnames += [term + tracer]"
   ]
  },
  {
   "cell_type": "markdown",
   "metadata": {},
   "source": [
    "## Open the Dataset\n",
    "If you're not using the ensemble, you may also want to try:\n",
    "`pl.open_pop_single_var_file`\n",
    "`pl.open_pop_multi_var_file`"
   ]
  },
  {
   "cell_type": "code",
   "execution_count": null,
   "metadata": {},
   "outputs": [],
   "source": [
    "# function that strips uneeded coordinate variables and groups  all model output into a single dataset\n",
    "ds = pl.open_pop_ensemble(ddir, transport_varnames[0:8], memberlist)"
   ]
  },
  {
   "cell_type": "code",
   "execution_count": null,
   "metadata": {},
   "outputs": [],
   "source": [
    "ds"
   ]
  },
  {
   "cell_type": "code",
   "execution_count": null,
   "metadata": {},
   "outputs": [],
   "source": [
    "# # J_DIC was averaged with nco. Need to open separate ds and then correct time \n",
    "# ds_J = pl.open_pop_ensemble(ddir, [transport_varnames[8]], memberlist)"
   ]
  },
  {
   "cell_type": "code",
   "execution_count": null,
   "metadata": {},
   "outputs": [],
   "source": [
    "# ds_J['time'] = ds['time']\n",
    "\n",
    "# ds = xr.merge([ds,ds_J])\n",
    "# ds.chunk({'time': 1})"
   ]
  },
  {
   "cell_type": "markdown",
   "metadata": {},
   "source": [
    "## Convert Units\n",
    "All terms are converted to nmol/s"
   ]
  },
  {
   "cell_type": "code",
   "execution_count": null,
   "metadata": {},
   "outputs": [],
   "source": [
    "tarea = ds['TAREA']\n",
    "vol = (ds.dz)*tarea"
   ]
  },
  {
   "cell_type": "code",
   "execution_count": null,
   "metadata": {},
   "outputs": [],
   "source": [
    "# adjust coords to z_t for later computation of divergence\n",
    "hdifb_t = ds['HDIFB_' + tracer]\n",
    "hdifb_t = hdifb_t.rename({'z_w_bot':'z_t'})\n",
    "hdifb_t['z_t'] = ds['z_t']\n",
    "\n",
    "wt_t = ds['WT_' + tracer]\n",
    "wt_t = wt_t.rename({'z_w_top':'z_t'})\n",
    "wt_t['z_t'] = ds['z_t']"
   ]
  },
  {
   "cell_type": "code",
   "execution_count": null,
   "metadata": {},
   "outputs": [],
   "source": [
    "# terms in units of mmol m^{-3} s^{-1}\n",
    "transport_terms = ['UE_','VN_','HDIFE_','HDIFN_','KPP_SRC_']#,'J_']\n",
    "\n",
    "for term in tqdm(transport_terms):\n",
    "    \n",
    "  ds[term + tracer] = ds[term + tracer]*vol\n",
    "  ds[term + tracer].attrs['units'] = 'nmol/s'\n",
    "  \n",
    "wt_t = wt_t*vol\n",
    "print('WT_' + tracer)\n",
    "hdifb_t = hdifb_t*vol\n",
    "print('HDIFB_' + tracer)"
   ]
  },
  {
   "cell_type": "code",
   "execution_count": null,
   "metadata": {},
   "outputs": [],
   "source": [
    "# DIA_IMPVF is in units of mmol m^{-2} cm s^{-1} \n",
    "# convert to mmol s^{-1} \n",
    "ds['DIA_IMPVF_' + tracer] = (ds['DIA_IMPVF_' + tracer])*tarea\n",
    "ds['DIA_IMPVF_' + tracer].attrs['units'] = 'nmol/s'\n",
    "\n",
    "# adjust coords to z_t for later computation of divergence\n",
    "diadiff_t = ds['DIA_IMPVF_' + tracer]\n",
    "diadiff_t = diadiff_t.rename({'z_w_bot':'z_t'})\n",
    "diadiff_t['z_t'] = ds['z_t']"
   ]
  },
  {
   "cell_type": "code",
   "execution_count": null,
   "metadata": {},
   "outputs": [],
   "source": [
    "ue_t = ds['UE_' + tracer]\n",
    "vn_t = ds['VN_' + tracer]\n",
    "wt_t = wt_t\n",
    "hdife_t = ds['HDIFE_' + tracer]\n",
    "hdifn_t = ds['HDIFN_' + tracer]\n",
    "hdifb_t = hdifb_t\n",
    "# bio_sms_t = ds['J_' + tracer]\n",
    "kpp_sms_t = ds['KPP_SRC_' + tracer]\n",
    "diadiff_t = diadiff_t"
   ]
  },
  {
   "cell_type": "markdown",
   "metadata": {},
   "source": [
    "## Calculate Divergence\n",
    "Methods are described in the __[POP Manual](http://www.cesm.ucar.edu/models/cesm2.0/ocean/doc/sci/POPRefManual.pdf)__ "
   ]
  },
  {
   "cell_type": "markdown",
   "metadata": {},
   "source": [
    "## Vertical Divergence: Resolved Advection"
   ]
  },
  {
   "cell_type": "code",
   "execution_count": null,
   "metadata": {},
   "outputs": [],
   "source": [
    "wt_t_kp1  = wt_t.shift(z_t=-1).fillna(0.)\n",
    "wdiv_t = wt_t_kp1 - wt_t\n",
    "wdiv_t.attrs['units'] = 'nmol/s'"
   ]
  },
  {
   "cell_type": "markdown",
   "metadata": {},
   "source": [
    "## Vertical Divergence: Submesoscale Eddies and Isopycnal Diffusion"
   ]
  },
  {
   "cell_type": "code",
   "execution_count": null,
   "metadata": {},
   "outputs": [],
   "source": [
    "hdifb_t_km1 = hdifb_t.shift(z_t=1).fillna(0.)\n",
    "wdiv_hdifb_t = hdifb_t_km1 - hdifb_t\n",
    "wdiv_hdifb_t.attrs['units'] = 'nmol/s'"
   ]
  },
  {
   "cell_type": "markdown",
   "metadata": {},
   "source": [
    "## Vertical Divergence: Diapycnal Diffusion \n",
    "(KPP parameterization, __[Large et al. 1994](http://www.cesm.ucar.edu/models/cesm2.0/ocean/doc/sci/POPRefManual.pdf)__)\n"
   ]
  },
  {
   "cell_type": "code",
   "execution_count": null,
   "metadata": {},
   "outputs": [],
   "source": [
    "diadiff_t_km1 = diadiff_t.shift(z_t=1).fillna(0.)\n",
    "wdiv_diadiff_t = diadiff_t_km1 - diadiff_t\n",
    "wdiv_diadiff_t.attrs['units'] = 'nmol/s'"
   ]
  },
  {
   "cell_type": "markdown",
   "metadata": {},
   "source": [
    "## Horizontal Divergence: Resolved Advection"
   ]
  },
  {
   "cell_type": "code",
   "execution_count": null,
   "metadata": {},
   "outputs": [],
   "source": [
    "ue_t_im1 = ue_t.roll(nlon=1)\n",
    "udiv_t = ue_t_im1 - ue_t\n",
    "\n",
    "vn_t_jm1 = vn_t.roll(nlat=1)\n",
    "vdiv_t = vn_t_jm1 - vn_t\n",
    "\n",
    "udiv_t.attrs['units'] = 'nmol/s'\n",
    "vdiv_t.attrs['units'] = 'nmol/s'\n",
    "\n",
    "hdiv_t = udiv_t + vdiv_t"
   ]
  },
  {
   "cell_type": "markdown",
   "metadata": {},
   "source": [
    "## Horizontal Divergence: Submesoscale Eddies and Isopycnal Diffusion"
   ]
  },
  {
   "cell_type": "code",
   "execution_count": null,
   "metadata": {},
   "outputs": [],
   "source": [
    "hdife_t_im1 = hdife_t.roll(nlon=1)\n",
    "udiv_hdife_t = hdife_t - hdife_t_im1\n",
    "\n",
    "hdifn_t_jm1 = hdifn_t.roll(nlat=1)\n",
    "vdiv_hdifn_t = hdifn_t - hdifn_t_jm1\n",
    "\n",
    "udiv_hdife_t.attrs['units'] = 'nmol/s'\n",
    "vdiv_hdifn_t.attrs['units'] = 'nmol/s'\n",
    "\n",
    "hdiv_hdif_t = udiv_hdife_t + vdiv_hdifn_t"
   ]
  },
  {
   "cell_type": "markdown",
   "metadata": {},
   "source": [
    "## Write to Disk\n",
    "\n",
    "The final product is grid cell by grid cell tracer divergence (nmol/s) that can be integrated vertically to the depth of your choosing for the column budget"
   ]
  },
  {
   "cell_type": "code",
   "execution_count": null,
   "metadata": {},
   "outputs": [],
   "source": [
    "# take ensemble mean and write to disk\n",
    "\n",
    "# you don't have to worry about the warnings\n",
    "# https://github.com/dask/distributed/issues/730\n",
    "\n",
    "budget_filelist = [hdiv_t,wdiv_t,hdiv_hdif_t,wdiv_hdifb_t,kpp_sms_t,wdiv_diadiff_t]#,bio_sms_t]\n",
    "budget_filelist_str = ['hdiv_','wdiv_','hdiv_hdif_','wdiv_hdifb_','kpp_sms_','wdiv_diadiff_',]#'bio_sms_']\n",
    "\n",
    "for budget_file,budget_file_str in tqdm(zip(budget_filelist,budget_filelist_str)):\n",
    "    budget_file = budget_file.mean(dim='member')\n",
    "    budget_file.to_netcdf((outdir + '{}{}_{}.1850-2100.nc'.format(budget_file_str,tracer,memberlist[0])))"
   ]
  }
 ],
 "metadata": {
  "kernelspec": {
   "display_name": "Python 3",
   "language": "python",
   "name": "python3"
  },
  "language_info": {
   "codemirror_mode": {
    "name": "ipython",
    "version": 3
   },
   "file_extension": ".py",
   "mimetype": "text/x-python",
   "name": "python",
   "nbconvert_exporter": "python",
   "pygments_lexer": "ipython3",
   "version": "3.6.5"
  }
 },
 "nbformat": 4,
 "nbformat_minor": 2
}
